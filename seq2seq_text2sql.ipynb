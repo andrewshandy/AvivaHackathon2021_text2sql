{
  "nbformat": 4,
  "nbformat_minor": 0,
  "metadata": {
    "colab": {
      "name": "seq2seq_text2sql.ipynb",
      "provenance": [],
      "collapsed_sections": [],
      "include_colab_link": true
    },
    "kernelspec": {
      "name": "python3",
      "display_name": "Python 3"
    },
    "accelerator": "GPU",
    "language_info": {
      "name": "python"
    }
  },
  "cells": [
    {
      "cell_type": "markdown",
      "metadata": {
        "id": "view-in-github",
        "colab_type": "text"
      },
      "source": [
        "<a href=\"https://colab.research.google.com/github/andrewshandy/AvivaHackathon2021_text2sql/blob/main/seq2seq_text2sql.ipynb\" target=\"_parent\"><img src=\"https://colab.research.google.com/assets/colab-badge.svg\" alt=\"Open In Colab\"/></a>"
      ]
    },
    {
      "cell_type": "code",
      "metadata": {
        "colab": {
          "base_uri": "https://localhost:8080/"
        },
        "id": "TJOL4RCki4C9",
        "outputId": "b616fcf0-aa2d-4b7e-fb57-55c97e20bfe5"
      },
      "source": [
        "! nvidia-smi"
      ],
      "execution_count": 5,
      "outputs": [
        {
          "output_type": "stream",
          "text": [
            "Sun Apr 25 08:56:39 2021       \n",
            "+-----------------------------------------------------------------------------+\n",
            "| NVIDIA-SMI 465.19.01    Driver Version: 460.32.03    CUDA Version: 11.2     |\n",
            "|-------------------------------+----------------------+----------------------+\n",
            "| GPU  Name        Persistence-M| Bus-Id        Disp.A | Volatile Uncorr. ECC |\n",
            "| Fan  Temp  Perf  Pwr:Usage/Cap|         Memory-Usage | GPU-Util  Compute M. |\n",
            "|                               |                      |               MIG M. |\n",
            "|===============================+======================+======================|\n",
            "|   0  Tesla K80           Off  | 00000000:00:04.0 Off |                    0 |\n",
            "| N/A   37C    P8    27W / 149W |      3MiB / 11441MiB |      0%      Default |\n",
            "|                               |                      |                  N/A |\n",
            "+-------------------------------+----------------------+----------------------+\n",
            "                                                                               \n",
            "+-----------------------------------------------------------------------------+\n",
            "| Processes:                                                                  |\n",
            "|  GPU   GI   CI        PID   Type   Process name                  GPU Memory |\n",
            "|        ID   ID                                                   Usage      |\n",
            "|=============================================================================|\n",
            "|  No running processes found                                                 |\n",
            "+-----------------------------------------------------------------------------+\n"
          ],
          "name": "stdout"
        }
      ]
    },
    {
      "cell_type": "code",
      "metadata": {
        "id": "uNJh5E72i4DA"
      },
      "source": [
        "import os\n",
        "os.environ['CUDA_VISIBLE_DEVICES'] = \"1\""
      ],
      "execution_count": 2,
      "outputs": []
    },
    {
      "cell_type": "markdown",
      "metadata": {
        "id": "GkSgEe-Jku-r"
      },
      "source": [
        "# Seq2seq"
      ]
    },
    {
      "cell_type": "code",
      "metadata": {
        "id": "QNNAb0a9kuEE"
      },
      "source": [
        "%matplotlib inline"
      ],
      "execution_count": 1,
      "outputs": []
    },
    {
      "cell_type": "code",
      "metadata": {
        "id": "zt1ZcvSZkf9y"
      },
      "source": [
        "from __future__ import unicode_literals, print_function, division\n",
        "from io import open\n",
        "import unicodedata\n",
        "import string\n",
        "import re\n",
        "import random\n",
        "\n",
        "import torch\n",
        "import torch.nn as nn\n",
        "from torch import optim\n",
        "import torch.nn.functional as F\n",
        "\n",
        "device = torch.device(\"cuda\" if torch.cuda.is_available() else \"cpu\")"
      ],
      "execution_count": 2,
      "outputs": []
    },
    {
      "cell_type": "code",
      "metadata": {
        "id": "LPV39FTkjhEG"
      },
      "source": [
        "import pandas as pd"
      ],
      "execution_count": 3,
      "outputs": []
    },
    {
      "cell_type": "code",
      "metadata": {
        "id": "n8bVGruI8Zeg",
        "colab": {
          "base_uri": "https://localhost:8080/"
        },
        "outputId": "97dc5c62-b945-49fb-c89b-97a23dcac573"
      },
      "source": [
        "torch.cuda.is_available()"
      ],
      "execution_count": 4,
      "outputs": [
        {
          "output_type": "execute_result",
          "data": {
            "text/plain": [
              "True"
            ]
          },
          "metadata": {
            "tags": []
          },
          "execution_count": 4
        }
      ]
    },
    {
      "cell_type": "code",
      "metadata": {
        "id": "X4io_ND2rVYY"
      },
      "source": [
        "df = pd.read_json('/content/train_spider.json')"
      ],
      "execution_count": 6,
      "outputs": []
    },
    {
      "cell_type": "code",
      "metadata": {
        "colab": {
          "base_uri": "https://localhost:8080/",
          "height": 1000
        },
        "id": "Mfycom0usKgK",
        "outputId": "403c293c-ac5b-43bc-d61e-f4ab14135c4e"
      },
      "source": [
        "df"
      ],
      "execution_count": 7,
      "outputs": [
        {
          "output_type": "execute_result",
          "data": {
            "text/html": [
              "<div>\n",
              "<style scoped>\n",
              "    .dataframe tbody tr th:only-of-type {\n",
              "        vertical-align: middle;\n",
              "    }\n",
              "\n",
              "    .dataframe tbody tr th {\n",
              "        vertical-align: top;\n",
              "    }\n",
              "\n",
              "    .dataframe thead th {\n",
              "        text-align: right;\n",
              "    }\n",
              "</style>\n",
              "<table border=\"1\" class=\"dataframe\">\n",
              "  <thead>\n",
              "    <tr style=\"text-align: right;\">\n",
              "      <th></th>\n",
              "      <th>db_id</th>\n",
              "      <th>query</th>\n",
              "      <th>query_toks</th>\n",
              "      <th>query_toks_no_value</th>\n",
              "      <th>question</th>\n",
              "      <th>question_toks</th>\n",
              "      <th>sql</th>\n",
              "    </tr>\n",
              "  </thead>\n",
              "  <tbody>\n",
              "    <tr>\n",
              "      <th>0</th>\n",
              "      <td>department_management</td>\n",
              "      <td>SELECT count(*) FROM head WHERE age  &gt;  56</td>\n",
              "      <td>[SELECT, count, (, *, ), FROM, head, WHERE, ag...</td>\n",
              "      <td>[select, count, (, *, ), from, head, where, ag...</td>\n",
              "      <td>How many heads of the departments are older th...</td>\n",
              "      <td>[How, many, heads, of, the, departments, are, ...</td>\n",
              "      <td>{'from': {'table_units': [['table_unit', 1]], ...</td>\n",
              "    </tr>\n",
              "    <tr>\n",
              "      <th>1</th>\n",
              "      <td>department_management</td>\n",
              "      <td>SELECT name ,  born_state ,  age FROM head ORD...</td>\n",
              "      <td>[SELECT, name, ,, born_state, ,, age, FROM, he...</td>\n",
              "      <td>[select, name, ,, born_state, ,, age, from, he...</td>\n",
              "      <td>List the name, born state and age of the heads...</td>\n",
              "      <td>[List, the, name, ,, born, state, and, age, of...</td>\n",
              "      <td>{'from': {'table_units': [['table_unit', 1]], ...</td>\n",
              "    </tr>\n",
              "    <tr>\n",
              "      <th>2</th>\n",
              "      <td>department_management</td>\n",
              "      <td>SELECT creation ,  name ,  budget_in_billions ...</td>\n",
              "      <td>[SELECT, creation, ,, name, ,, budget_in_billi...</td>\n",
              "      <td>[select, creation, ,, name, ,, budget_in_billi...</td>\n",
              "      <td>List the creation year, name and budget of eac...</td>\n",
              "      <td>[List, the, creation, year, ,, name, and, budg...</td>\n",
              "      <td>{'from': {'table_units': [['table_unit', 0]], ...</td>\n",
              "    </tr>\n",
              "    <tr>\n",
              "      <th>3</th>\n",
              "      <td>department_management</td>\n",
              "      <td>SELECT max(budget_in_billions) ,  min(budget_i...</td>\n",
              "      <td>[SELECT, max, (, budget_in_billions, ), ,, min...</td>\n",
              "      <td>[select, max, (, budget_in_billions, ), ,, min...</td>\n",
              "      <td>What are the maximum and minimum budget of the...</td>\n",
              "      <td>[What, are, the, maximum, and, minimum, budget...</td>\n",
              "      <td>{'from': {'table_units': [['table_unit', 0]], ...</td>\n",
              "    </tr>\n",
              "    <tr>\n",
              "      <th>4</th>\n",
              "      <td>department_management</td>\n",
              "      <td>SELECT avg(num_employees) FROM department WHER...</td>\n",
              "      <td>[SELECT, avg, (, num_employees, ), FROM, depar...</td>\n",
              "      <td>[select, avg, (, num_employees, ), from, depar...</td>\n",
              "      <td>What is the average number of employees of the...</td>\n",
              "      <td>[What, is, the, average, number, of, employees...</td>\n",
              "      <td>{'from': {'table_units': [['table_unit', 0]], ...</td>\n",
              "    </tr>\n",
              "    <tr>\n",
              "      <th>...</th>\n",
              "      <td>...</td>\n",
              "      <td>...</td>\n",
              "      <td>...</td>\n",
              "      <td>...</td>\n",
              "      <td>...</td>\n",
              "      <td>...</td>\n",
              "      <td>...</td>\n",
              "    </tr>\n",
              "    <tr>\n",
              "      <th>6995</th>\n",
              "      <td>culture_company</td>\n",
              "      <td>SELECT T1.company_name FROM culture_company AS...</td>\n",
              "      <td>[SELECT, T1.company_name, FROM, culture_compan...</td>\n",
              "      <td>[select, t1, ., company_name, from, culture_co...</td>\n",
              "      <td>What are all the company names that have a boo...</td>\n",
              "      <td>[What, are, all, the, company, names, that, ha...</td>\n",
              "      <td>{'from': {'table_units': [['table_unit', 2], [...</td>\n",
              "    </tr>\n",
              "    <tr>\n",
              "      <th>6996</th>\n",
              "      <td>culture_company</td>\n",
              "      <td>SELECT T1.title ,  T3.book_title FROM movie AS...</td>\n",
              "      <td>[SELECT, T1.title, ,, T3.book_title, FROM, mov...</td>\n",
              "      <td>[select, t1, ., title, ,, t3, ., book_title, f...</td>\n",
              "      <td>Show the movie titles and book titles for all ...</td>\n",
              "      <td>[Show, the, movie, titles, and, book, titles, ...</td>\n",
              "      <td>{'from': {'table_units': [['table_unit', 1], [...</td>\n",
              "    </tr>\n",
              "    <tr>\n",
              "      <th>6997</th>\n",
              "      <td>culture_company</td>\n",
              "      <td>SELECT T1.title ,  T3.book_title FROM movie AS...</td>\n",
              "      <td>[SELECT, T1.title, ,, T3.book_title, FROM, mov...</td>\n",
              "      <td>[select, t1, ., title, ,, t3, ., book_title, f...</td>\n",
              "      <td>What are the titles of movies and books corres...</td>\n",
              "      <td>[What, are, the, titles, of, movies, and, book...</td>\n",
              "      <td>{'from': {'table_units': [['table_unit', 1], [...</td>\n",
              "    </tr>\n",
              "    <tr>\n",
              "      <th>6998</th>\n",
              "      <td>culture_company</td>\n",
              "      <td>SELECT T2.company_name FROM movie AS T1 JOIN c...</td>\n",
              "      <td>[SELECT, T2.company_name, FROM, movie, AS, T1,...</td>\n",
              "      <td>[select, t2, ., company_name, from, movie, as,...</td>\n",
              "      <td>Show all company names with a movie directed i...</td>\n",
              "      <td>[Show, all, company, names, with, a, movie, di...</td>\n",
              "      <td>{'from': {'table_units': [['table_unit', 1], [...</td>\n",
              "    </tr>\n",
              "    <tr>\n",
              "      <th>6999</th>\n",
              "      <td>culture_company</td>\n",
              "      <td>SELECT T2.company_name FROM movie AS T1 JOIN c...</td>\n",
              "      <td>[SELECT, T2.company_name, FROM, movie, AS, T1,...</td>\n",
              "      <td>[select, t2, ., company_name, from, movie, as,...</td>\n",
              "      <td>What are all company names that have a corresp...</td>\n",
              "      <td>[What, are, all, company, names, that, have, a...</td>\n",
              "      <td>{'from': {'table_units': [['table_unit', 1], [...</td>\n",
              "    </tr>\n",
              "  </tbody>\n",
              "</table>\n",
              "<p>7000 rows × 7 columns</p>\n",
              "</div>"
            ],
            "text/plain": [
              "                      db_id  ...                                                sql\n",
              "0     department_management  ...  {'from': {'table_units': [['table_unit', 1]], ...\n",
              "1     department_management  ...  {'from': {'table_units': [['table_unit', 1]], ...\n",
              "2     department_management  ...  {'from': {'table_units': [['table_unit', 0]], ...\n",
              "3     department_management  ...  {'from': {'table_units': [['table_unit', 0]], ...\n",
              "4     department_management  ...  {'from': {'table_units': [['table_unit', 0]], ...\n",
              "...                     ...  ...                                                ...\n",
              "6995        culture_company  ...  {'from': {'table_units': [['table_unit', 2], [...\n",
              "6996        culture_company  ...  {'from': {'table_units': [['table_unit', 1], [...\n",
              "6997        culture_company  ...  {'from': {'table_units': [['table_unit', 1], [...\n",
              "6998        culture_company  ...  {'from': {'table_units': [['table_unit', 1], [...\n",
              "6999        culture_company  ...  {'from': {'table_units': [['table_unit', 1], [...\n",
              "\n",
              "[7000 rows x 7 columns]"
            ]
          },
          "metadata": {
            "tags": []
          },
          "execution_count": 7
        }
      ]
    },
    {
      "cell_type": "code",
      "metadata": {
        "colab": {
          "base_uri": "https://localhost:8080/",
          "height": 419
        },
        "id": "qs_szy9SjiM-",
        "outputId": "7e74aaf4-29b0-40ee-a02b-ff93e7327285"
      },
      "source": [
        "df_origin = pd.read_excel('/content/avia_distiled_sql.xlsx')\n",
        "df_origin"
      ],
      "execution_count": 8,
      "outputs": [
        {
          "output_type": "execute_result",
          "data": {
            "text/html": [
              "<div>\n",
              "<style scoped>\n",
              "    .dataframe tbody tr th:only-of-type {\n",
              "        vertical-align: middle;\n",
              "    }\n",
              "\n",
              "    .dataframe tbody tr th {\n",
              "        vertical-align: top;\n",
              "    }\n",
              "\n",
              "    .dataframe thead th {\n",
              "        text-align: right;\n",
              "    }\n",
              "</style>\n",
              "<table border=\"1\" class=\"dataframe\">\n",
              "  <thead>\n",
              "    <tr style=\"text-align: right;\">\n",
              "      <th></th>\n",
              "      <th>query</th>\n",
              "      <th>question</th>\n",
              "    </tr>\n",
              "  </thead>\n",
              "  <tbody>\n",
              "    <tr>\n",
              "      <th>0</th>\n",
              "      <td>SELECT count(*) FROM flight WHERE velocity  &gt; ...</td>\n",
              "      <td>How many flights have a velocity larger than 200?</td>\n",
              "    </tr>\n",
              "    <tr>\n",
              "      <th>1</th>\n",
              "      <td>SELECT vehicle_flight_number ,  date ,  pilot ...</td>\n",
              "      <td>List the vehicle flight number, date and pilot...</td>\n",
              "    </tr>\n",
              "    <tr>\n",
              "      <th>2</th>\n",
              "      <td>SELECT id ,  country ,  city ,  name FROM airp...</td>\n",
              "      <td>List the id, country, city and name of the air...</td>\n",
              "    </tr>\n",
              "    <tr>\n",
              "      <th>3</th>\n",
              "      <td>SELECT max(group_equity_shareholding) FROM ope...</td>\n",
              "      <td>What is maximum group equity shareholding of t...</td>\n",
              "    </tr>\n",
              "    <tr>\n",
              "      <th>4</th>\n",
              "      <td>SELECT avg(velocity) FROM flight WHERE pilot  ...</td>\n",
              "      <td>What is the velocity of the pilot named 'Thomp...</td>\n",
              "    </tr>\n",
              "    <tr>\n",
              "      <th>...</th>\n",
              "      <td>...</td>\n",
              "      <td>...</td>\n",
              "    </tr>\n",
              "    <tr>\n",
              "      <th>333</th>\n",
              "      <td>SELECT T3.Pilot_name ,  T2.Fleet_Series FROM p...</td>\n",
              "      <td>Show the names of pilots and fleet series of t...</td>\n",
              "    </tr>\n",
              "    <tr>\n",
              "      <th>334</th>\n",
              "      <td>SELECT T2.Fleet_Series FROM pilot_record AS T1...</td>\n",
              "      <td>Show the fleet series of the aircrafts flied b...</td>\n",
              "    </tr>\n",
              "    <tr>\n",
              "      <th>335</th>\n",
              "      <td>SELECT T2.Pilot_name ,  COUNT(*) FROM pilot_re...</td>\n",
              "      <td>Show the names of pilots and the number of rec...</td>\n",
              "    </tr>\n",
              "    <tr>\n",
              "      <th>336</th>\n",
              "      <td>SELECT T2.Pilot_name ,  COUNT(*) FROM pilot_re...</td>\n",
              "      <td>Show names of pilots that have more than one r...</td>\n",
              "    </tr>\n",
              "    <tr>\n",
              "      <th>337</th>\n",
              "      <td>SELECT Pilot_name FROM pilot WHERE Pilot_ID NO...</td>\n",
              "      <td>List the names of pilots that do not have any ...</td>\n",
              "    </tr>\n",
              "  </tbody>\n",
              "</table>\n",
              "<p>338 rows × 2 columns</p>\n",
              "</div>"
            ],
            "text/plain": [
              "                                                 query                                           question\n",
              "0    SELECT count(*) FROM flight WHERE velocity  > ...  How many flights have a velocity larger than 200?\n",
              "1    SELECT vehicle_flight_number ,  date ,  pilot ...  List the vehicle flight number, date and pilot...\n",
              "2    SELECT id ,  country ,  city ,  name FROM airp...  List the id, country, city and name of the air...\n",
              "3    SELECT max(group_equity_shareholding) FROM ope...  What is maximum group equity shareholding of t...\n",
              "4    SELECT avg(velocity) FROM flight WHERE pilot  ...  What is the velocity of the pilot named 'Thomp...\n",
              "..                                                 ...                                                ...\n",
              "333  SELECT T3.Pilot_name ,  T2.Fleet_Series FROM p...  Show the names of pilots and fleet series of t...\n",
              "334  SELECT T2.Fleet_Series FROM pilot_record AS T1...  Show the fleet series of the aircrafts flied b...\n",
              "335  SELECT T2.Pilot_name ,  COUNT(*) FROM pilot_re...  Show the names of pilots and the number of rec...\n",
              "336  SELECT T2.Pilot_name ,  COUNT(*) FROM pilot_re...  Show names of pilots that have more than one r...\n",
              "337  SELECT Pilot_name FROM pilot WHERE Pilot_ID NO...  List the names of pilots that do not have any ...\n",
              "\n",
              "[338 rows x 2 columns]"
            ]
          },
          "metadata": {
            "tags": []
          },
          "execution_count": 8
        }
      ]
    },
    {
      "cell_type": "code",
      "metadata": {
        "colab": {
          "base_uri": "https://localhost:8080/",
          "height": 419
        },
        "id": "6OlXNlaMtJN2",
        "outputId": "046b71b8-e56f-4660-bd98-942de06baeb5"
      },
      "source": [
        "temp = pd.DataFrame((df_origin['query'] + '\\t' + df_origin['question']))\n",
        "temp"
      ],
      "execution_count": 9,
      "outputs": [
        {
          "output_type": "execute_result",
          "data": {
            "text/html": [
              "<div>\n",
              "<style scoped>\n",
              "    .dataframe tbody tr th:only-of-type {\n",
              "        vertical-align: middle;\n",
              "    }\n",
              "\n",
              "    .dataframe tbody tr th {\n",
              "        vertical-align: top;\n",
              "    }\n",
              "\n",
              "    .dataframe thead th {\n",
              "        text-align: right;\n",
              "    }\n",
              "</style>\n",
              "<table border=\"1\" class=\"dataframe\">\n",
              "  <thead>\n",
              "    <tr style=\"text-align: right;\">\n",
              "      <th></th>\n",
              "      <th>0</th>\n",
              "    </tr>\n",
              "  </thead>\n",
              "  <tbody>\n",
              "    <tr>\n",
              "      <th>0</th>\n",
              "      <td>SELECT count(*) FROM flight WHERE velocity  &gt; ...</td>\n",
              "    </tr>\n",
              "    <tr>\n",
              "      <th>1</th>\n",
              "      <td>SELECT vehicle_flight_number ,  date ,  pilot ...</td>\n",
              "    </tr>\n",
              "    <tr>\n",
              "      <th>2</th>\n",
              "      <td>SELECT id ,  country ,  city ,  name FROM airp...</td>\n",
              "    </tr>\n",
              "    <tr>\n",
              "      <th>3</th>\n",
              "      <td>SELECT max(group_equity_shareholding) FROM ope...</td>\n",
              "    </tr>\n",
              "    <tr>\n",
              "      <th>4</th>\n",
              "      <td>SELECT avg(velocity) FROM flight WHERE pilot  ...</td>\n",
              "    </tr>\n",
              "    <tr>\n",
              "      <th>...</th>\n",
              "      <td>...</td>\n",
              "    </tr>\n",
              "    <tr>\n",
              "      <th>333</th>\n",
              "      <td>SELECT T3.Pilot_name ,  T2.Fleet_Series FROM p...</td>\n",
              "    </tr>\n",
              "    <tr>\n",
              "      <th>334</th>\n",
              "      <td>SELECT T2.Fleet_Series FROM pilot_record AS T1...</td>\n",
              "    </tr>\n",
              "    <tr>\n",
              "      <th>335</th>\n",
              "      <td>SELECT T2.Pilot_name ,  COUNT(*) FROM pilot_re...</td>\n",
              "    </tr>\n",
              "    <tr>\n",
              "      <th>336</th>\n",
              "      <td>SELECT T2.Pilot_name ,  COUNT(*) FROM pilot_re...</td>\n",
              "    </tr>\n",
              "    <tr>\n",
              "      <th>337</th>\n",
              "      <td>SELECT Pilot_name FROM pilot WHERE Pilot_ID NO...</td>\n",
              "    </tr>\n",
              "  </tbody>\n",
              "</table>\n",
              "<p>338 rows × 1 columns</p>\n",
              "</div>"
            ],
            "text/plain": [
              "                                                     0\n",
              "0    SELECT count(*) FROM flight WHERE velocity  > ...\n",
              "1    SELECT vehicle_flight_number ,  date ,  pilot ...\n",
              "2    SELECT id ,  country ,  city ,  name FROM airp...\n",
              "3    SELECT max(group_equity_shareholding) FROM ope...\n",
              "4    SELECT avg(velocity) FROM flight WHERE pilot  ...\n",
              "..                                                 ...\n",
              "333  SELECT T3.Pilot_name ,  T2.Fleet_Series FROM p...\n",
              "334  SELECT T2.Fleet_Series FROM pilot_record AS T1...\n",
              "335  SELECT T2.Pilot_name ,  COUNT(*) FROM pilot_re...\n",
              "336  SELECT T2.Pilot_name ,  COUNT(*) FROM pilot_re...\n",
              "337  SELECT Pilot_name FROM pilot WHERE Pilot_ID NO...\n",
              "\n",
              "[338 rows x 1 columns]"
            ]
          },
          "metadata": {
            "tags": []
          },
          "execution_count": 9
        }
      ]
    },
    {
      "cell_type": "code",
      "metadata": {
        "id": "NmM0PJOXvxoo"
      },
      "source": [
        "import numpy as np\n"
      ],
      "execution_count": 87,
      "outputs": []
    },
    {
      "cell_type": "code",
      "metadata": {
        "id": "lXOLJRqsjlLL"
      },
      "source": [
        "new_df = pd.DataFrame((df['query'] + '\\t' + df['question']))\n",
        "d = new_df.append(temp,)"
      ],
      "execution_count": 12,
      "outputs": []
    },
    {
      "cell_type": "code",
      "metadata": {
        "colab": {
          "base_uri": "https://localhost:8080/",
          "height": 419
        },
        "id": "hQoSKiO5ud0E",
        "outputId": "a1facae9-c22f-43b6-e2dc-4dcbcf14593c"
      },
      "source": [
        "new_df = pd.DataFrame(d)\n",
        "new_df.reset_index(None).drop(columns='index')"
      ],
      "execution_count": 13,
      "outputs": [
        {
          "output_type": "execute_result",
          "data": {
            "text/html": [
              "<div>\n",
              "<style scoped>\n",
              "    .dataframe tbody tr th:only-of-type {\n",
              "        vertical-align: middle;\n",
              "    }\n",
              "\n",
              "    .dataframe tbody tr th {\n",
              "        vertical-align: top;\n",
              "    }\n",
              "\n",
              "    .dataframe thead th {\n",
              "        text-align: right;\n",
              "    }\n",
              "</style>\n",
              "<table border=\"1\" class=\"dataframe\">\n",
              "  <thead>\n",
              "    <tr style=\"text-align: right;\">\n",
              "      <th></th>\n",
              "      <th>0</th>\n",
              "    </tr>\n",
              "  </thead>\n",
              "  <tbody>\n",
              "    <tr>\n",
              "      <th>0</th>\n",
              "      <td>SELECT count(*) FROM head WHERE age  &gt;  56\\tHo...</td>\n",
              "    </tr>\n",
              "    <tr>\n",
              "      <th>1</th>\n",
              "      <td>SELECT name ,  born_state ,  age FROM head ORD...</td>\n",
              "    </tr>\n",
              "    <tr>\n",
              "      <th>2</th>\n",
              "      <td>SELECT creation ,  name ,  budget_in_billions ...</td>\n",
              "    </tr>\n",
              "    <tr>\n",
              "      <th>3</th>\n",
              "      <td>SELECT max(budget_in_billions) ,  min(budget_i...</td>\n",
              "    </tr>\n",
              "    <tr>\n",
              "      <th>4</th>\n",
              "      <td>SELECT avg(num_employees) FROM department WHER...</td>\n",
              "    </tr>\n",
              "    <tr>\n",
              "      <th>...</th>\n",
              "      <td>...</td>\n",
              "    </tr>\n",
              "    <tr>\n",
              "      <th>7333</th>\n",
              "      <td>SELECT T3.Pilot_name ,  T2.Fleet_Series FROM p...</td>\n",
              "    </tr>\n",
              "    <tr>\n",
              "      <th>7334</th>\n",
              "      <td>SELECT T2.Fleet_Series FROM pilot_record AS T1...</td>\n",
              "    </tr>\n",
              "    <tr>\n",
              "      <th>7335</th>\n",
              "      <td>SELECT T2.Pilot_name ,  COUNT(*) FROM pilot_re...</td>\n",
              "    </tr>\n",
              "    <tr>\n",
              "      <th>7336</th>\n",
              "      <td>SELECT T2.Pilot_name ,  COUNT(*) FROM pilot_re...</td>\n",
              "    </tr>\n",
              "    <tr>\n",
              "      <th>7337</th>\n",
              "      <td>SELECT Pilot_name FROM pilot WHERE Pilot_ID NO...</td>\n",
              "    </tr>\n",
              "  </tbody>\n",
              "</table>\n",
              "<p>7338 rows × 1 columns</p>\n",
              "</div>"
            ],
            "text/plain": [
              "                                                      0\n",
              "0     SELECT count(*) FROM head WHERE age  >  56\\tHo...\n",
              "1     SELECT name ,  born_state ,  age FROM head ORD...\n",
              "2     SELECT creation ,  name ,  budget_in_billions ...\n",
              "3     SELECT max(budget_in_billions) ,  min(budget_i...\n",
              "4     SELECT avg(num_employees) FROM department WHER...\n",
              "...                                                 ...\n",
              "7333  SELECT T3.Pilot_name ,  T2.Fleet_Series FROM p...\n",
              "7334  SELECT T2.Fleet_Series FROM pilot_record AS T1...\n",
              "7335  SELECT T2.Pilot_name ,  COUNT(*) FROM pilot_re...\n",
              "7336  SELECT T2.Pilot_name ,  COUNT(*) FROM pilot_re...\n",
              "7337  SELECT Pilot_name FROM pilot WHERE Pilot_ID NO...\n",
              "\n",
              "[7338 rows x 1 columns]"
            ]
          },
          "metadata": {
            "tags": []
          },
          "execution_count": 13
        }
      ]
    },
    {
      "cell_type": "code",
      "metadata": {
        "id": "zYgxYCIZkf93"
      },
      "source": [
        "SOS_token = 0\n",
        "EOS_token = 1\n",
        "\n",
        "\n",
        "class Lang:\n",
        "    def __init__(self, name):\n",
        "        self.name = name\n",
        "        self.word2index = {}\n",
        "        self.word2count = {}\n",
        "        self.index2word = {0: \"SOS\", 1: \"EOS\"}\n",
        "        self.n_words = 2  # Count SOS and EOS\n",
        "\n",
        "    def addSentence(self, sentence):\n",
        "        for word in sentence.split(' '):\n",
        "            self.addWord(word)\n",
        "\n",
        "    def addWord(self, word):\n",
        "        if word not in self.word2index:\n",
        "            self.word2index[word] = self.n_words\n",
        "            self.word2count[word] = 1\n",
        "            self.index2word[self.n_words] = word\n",
        "            self.n_words += 1\n",
        "        else:\n",
        "            self.word2count[word] += 1\n",
        "            \n",
        "    def __repr__(self):\n",
        "        most_popular_words = sorted(\n",
        "            self.word2count.keys(), key=lambda word: self.word2count[word], reverse=True\n",
        "        )[:10]\n",
        "        most_popular_words = \", \".join(most_popular_words)\n",
        "        return f\"Language: {self.name} | Num words: {self.n_words} | Most popular: {most_popular_words}\""
      ],
      "execution_count": 14,
      "outputs": []
    },
    {
      "cell_type": "code",
      "metadata": {
        "id": "ygu9l499kf96"
      },
      "source": [
        "# \"hello!\" -> hello, ! \n",
        "\n",
        "def unicodeToAscii(s):\n",
        "    return ''.join(\n",
        "        c for c in unicodedata.normalize('NFD', s)\n",
        "        if unicodedata.category(c) != 'Mn'\n",
        "    )\n",
        "\n",
        "def normalizeString(s):\n",
        "    s = unicodeToAscii(s)\n",
        "    s = re.sub(r\"([.!?])\", r\" \\1\", s)\n",
        "\n",
        "    return s"
      ],
      "execution_count": 15,
      "outputs": []
    },
    {
      "cell_type": "markdown",
      "metadata": {
        "id": "Q35QxZKPxiPs"
      },
      "source": [
        "Split into pairs\n"
      ]
    },
    {
      "cell_type": "code",
      "metadata": {
        "id": "kR6MaACekf99"
      },
      "source": [
        "def readLangs(lang1, lang2, reverse=False):\n",
        "    print(\"Reading lines...\")\n",
        "\n",
        "\n",
        "    pairs = [[normalizeString(s) for s in l.split('\\t')] for l in new_df[0]]\n",
        "\n",
        "\n",
        "    if reverse:\n",
        "        pairs = [list(reversed(p)) for p in pairs]\n",
        "        input_lang = Lang(lang2)\n",
        "        output_lang = Lang(lang1)\n",
        "    else:\n",
        "        input_lang = Lang(lang1)\n",
        "        output_lang = Lang(lang2)\n",
        "\n",
        "    return input_lang, output_lang, pairs"
      ],
      "execution_count": 43,
      "outputs": []
    },
    {
      "cell_type": "code",
      "metadata": {
        "id": "5rE0V5VGkf-A"
      },
      "source": [
        "MAX_LENGTH = 80\n",
        "\n",
        "def filterPair(p):\n",
        "    return len(p[0].split(' ')) < MAX_LENGTH and \\\n",
        "        len(p[1].split(' ')) < MAX_LENGTH \n",
        "\n",
        "\n",
        "def filterPairs(pairs):\n",
        "    return [pair for pair in pairs if filterPair(pair)]"
      ],
      "execution_count": 44,
      "outputs": []
    },
    {
      "cell_type": "code",
      "metadata": {
        "colab": {
          "base_uri": "https://localhost:8080/"
        },
        "id": "1G_BKtnukf-D",
        "outputId": "1c69bf9f-4545-46b7-a4c3-689727c42d74"
      },
      "source": [
        "def prepareData(lang1, lang2, reverse=False):\n",
        "    input_lang, output_lang, pairs = readLangs(lang1, lang2, reverse)\n",
        "    print(\"Read %s sentence pairs\" % len(pairs))\n",
        "    pairs = filterPairs(pairs)\n",
        "    print(\"Trimmed to %s sentence pairs\" % len(pairs))\n",
        "    print(\"Counting words...\")\n",
        "    for pair in pairs:\n",
        "        input_lang.addSentence(pair[0])\n",
        "        output_lang.addSentence(pair[1])\n",
        "    print(\"Counted words:\")\n",
        "    print(input_lang.name, input_lang.n_words)\n",
        "    print(output_lang.name, output_lang.n_words)\n",
        "    return input_lang, output_lang, pairs\n",
        "\n",
        "\n",
        "input_lang, output_lang, pairs = prepareData('SQL', 'eng', True)\n",
        "print(random.choice(pairs))"
      ],
      "execution_count": 45,
      "outputs": [
        {
          "output_type": "stream",
          "text": [
            "Reading lines...\n",
            "Read 7338 sentence pairs\n",
            "Trimmed to 7322 sentence pairs\n",
            "Counting words...\n",
            "Counted words:\n",
            "eng 4001\n",
            "SQL 4870\n",
            "['How many customers are there in the customer type with the most customers ?', 'SELECT count(*) FROM customers GROUP BY customer_type_code ORDER BY count(*) DESC LIMIT 1']\n"
          ],
          "name": "stdout"
        }
      ]
    },
    {
      "cell_type": "code",
      "metadata": {
        "colab": {
          "base_uri": "https://localhost:8080/"
        },
        "id": "zdtk3CCIi4DJ",
        "outputId": "43a08a64-c869-4695-fcc5-c9a4b7f99d38"
      },
      "source": [
        "input_lang"
      ],
      "execution_count": 46,
      "outputs": [
        {
          "output_type": "execute_result",
          "data": {
            "text/plain": [
              "Language: eng | Num words: 4001 | Most popular: the, of, ?, ., What, and, are, in, is, names"
            ]
          },
          "metadata": {
            "tags": []
          },
          "execution_count": 46
        }
      ]
    },
    {
      "cell_type": "code",
      "metadata": {
        "colab": {
          "base_uri": "https://localhost:8080/"
        },
        "id": "hqP0aVJzi4DJ",
        "outputId": "ee47c15a-72a2-4e12-8c3b-3d333b520ff1"
      },
      "source": [
        "output_lang"
      ],
      "execution_count": 47,
      "outputs": [
        {
          "output_type": "execute_result",
          "data": {
            "text/plain": [
              "Language: SQL | Num words: 4870 | Most popular: , T1, FROM, SELECT, T2, =, AS, WHERE, JOIN, ON"
            ]
          },
          "metadata": {
            "tags": []
          },
          "execution_count": 47
        }
      ]
    },
    {
      "cell_type": "markdown",
      "metadata": {
        "id": "bsEmtD5zvCOv"
      },
      "source": [
        "The Encoder\n",
        "-----------"
      ]
    },
    {
      "cell_type": "code",
      "metadata": {
        "id": "qpcrvvXakf-I"
      },
      "source": [
        "class EncoderRNN(nn.Module):\n",
        "    def __init__(self, input_size, hidden_size):\n",
        "        super().__init__()\n",
        "        self.hidden_size = hidden_size\n",
        "        self.embedder = nn.Embedding(input_size, hidden_size)\n",
        "        self.gru = nn.GRU(hidden_size, hidden_size)\n",
        "\n",
        "    def forward(self, input, hidden):\n",
        "        embeddings = self.embedder(input).view(1, 1, -1)\n",
        "        output, hidden = self.gru(embeddings, hidden)\n",
        "        return output, hidden\n",
        "\n",
        "    def initHidden(self):\n",
        "        return torch.zeros(1, 1, self.hidden_size, device=device)"
      ],
      "execution_count": 50,
      "outputs": []
    },
    {
      "cell_type": "markdown",
      "metadata": {
        "id": "PNZcay6Hkf-K"
      },
      "source": [
        "The Decoder\n",
        "-----------\n",
        "\n",
        "\n",
        "\n"
      ]
    },
    {
      "cell_type": "code",
      "metadata": {
        "id": "LZwO_Gg2kf-P"
      },
      "source": [
        "class AttnDecoderRNN(nn.Module):\n",
        "    def __init__(self, hidden_size, output_size, dropout_p=0.1, max_length=MAX_LENGTH):\n",
        "        super().__init__()\n",
        "        self.hidden_size = hidden_size\n",
        "        self.output_size = output_size\n",
        "        self.dropout_p = dropout_p\n",
        "        self.max_length = max_length\n",
        "\n",
        "        self.embedding = nn.Embedding(self.output_size, self.hidden_size)\n",
        "        self.attn = nn.Linear(self.hidden_size * 2, self.max_length)\n",
        "        self.attn_combine = nn.Linear(self.hidden_size * 2, self.hidden_size)\n",
        "        self.dropout = nn.Dropout(self.dropout_p)\n",
        "        self.gru = nn.GRU(self.hidden_size, self.hidden_size)\n",
        "        self.out = nn.Linear(self.hidden_size, self.output_size)\n",
        "\n",
        "    def forward(self, input, hidden, encoder_outputs):\n",
        "        embedded = self.embedding(input).view(1, 1, -1)\n",
        "        embedded = self.dropout(embedded)\n",
        "\n",
        "        attn_weights = F.softmax(\n",
        "            self.attn(\n",
        "                torch.cat((embedded[0], hidden[0]), 1)\n",
        "            ), \n",
        "            dim=1\n",
        "        )\n",
        "        attn_applied = torch.bmm(\n",
        "            attn_weights.unsqueeze(0),\n",
        "            encoder_outputs.unsqueeze(0)\n",
        "        )\n",
        "\n",
        "        output = torch.cat((embedded[0], attn_applied[0]), 1)\n",
        "        output = self.attn_combine(output).unsqueeze(0)\n",
        "\n",
        "        output = F.relu(output)\n",
        "        output, hidden = self.gru(output, hidden)\n",
        "\n",
        "        output = F.log_softmax(self.out(output[0]), dim=1)\n",
        "        return output, hidden, attn_weights\n",
        "\n",
        "    def initHidden(self):\n",
        "        return torch.zeros(1, 1, self.hidden_size, device=device)"
      ],
      "execution_count": 56,
      "outputs": []
    },
    {
      "cell_type": "code",
      "metadata": {
        "id": "Nmb8OwO7kf-S"
      },
      "source": [
        "def indexesFromSentence(lang, sentence):\n",
        "    return [lang.word2index[word] for word in sentence.split(' ')]\n",
        "\n",
        "\n",
        "def tensorFromSentence(lang, sentence):\n",
        "    indexes = indexesFromSentence(lang, sentence)\n",
        "    indexes.append(EOS_token)\n",
        "    return torch.tensor(indexes, dtype=torch.long, device=device).view(-1, 1)\n",
        "\n",
        "\n",
        "def tensorsFromPair(pair):\n",
        "    input_tensor = tensorFromSentence(input_lang, pair[0])\n",
        "    target_tensor = tensorFromSentence(output_lang, pair[1])\n",
        "    return (input_tensor, target_tensor)"
      ],
      "execution_count": 57,
      "outputs": []
    },
    {
      "cell_type": "markdown",
      "metadata": {
        "id": "g3OzldY0kf-U"
      },
      "source": [
        "Training the Model\n",
        "------------------\n",
        "\n",
        "\n",
        "\n"
      ]
    },
    {
      "cell_type": "code",
      "metadata": {
        "id": "na-c3f0nkf-V"
      },
      "source": [
        "teacher_forcing_ratio = 0.5\n",
        "\n",
        "\n",
        "def train(\n",
        "    input_tensor, \n",
        "    target_tensor,\n",
        "    encoder, \n",
        "    decoder, \n",
        "    encoder_optimizer,\n",
        "    decoder_optimizer, \n",
        "    criterion,\n",
        "    max_length=MAX_LENGTH\n",
        "):\n",
        "    encoder_hidden = encoder.initHidden()\n",
        "\n",
        "    encoder_optimizer.zero_grad()\n",
        "    decoder_optimizer.zero_grad()\n",
        "\n",
        "    input_length = input_tensor.size(0)\n",
        "    target_length = target_tensor.size(0)\n",
        "\n",
        "    encoder_outputs = torch.zeros(max_length, encoder.hidden_size, device=device)\n",
        "\n",
        "    loss = 0\n",
        "\n",
        "    for ei in range(input_length):\n",
        "        encoder_output, encoder_hidden = encoder(\n",
        "            input_tensor[ei], encoder_hidden)\n",
        "        encoder_outputs[ei] = encoder_output[0, 0]\n",
        "\n",
        "    decoder_input = torch.tensor([[SOS_token]], device=device)\n",
        "    decoder_hidden = encoder_hidden\n",
        "\n",
        "    use_teacher_forcing = True if random.random() < teacher_forcing_ratio else False\n",
        "\n",
        "    if use_teacher_forcing:\n",
        "        for di in range(target_length):\n",
        "            decoder_output, decoder_hidden, decoder_attention = decoder(\n",
        "                decoder_input, decoder_hidden, encoder_outputs)\n",
        "            loss += criterion(decoder_output, target_tensor[di])\n",
        "            decoder_input = target_tensor[di]  # Teacher forcing\n",
        "\n",
        "    else:\n",
        "        # Without teacher forcing: use its own predictions as the next input\n",
        "        for di in range(target_length):\n",
        "            decoder_output, decoder_hidden, decoder_attention = decoder(\n",
        "                decoder_input, decoder_hidden, encoder_outputs)\n",
        "            topv, topi = decoder_output.topk(1)\n",
        "            decoder_input = topi.squeeze().detach()  # detach from history as input\n",
        "\n",
        "            loss += criterion(decoder_output, target_tensor[di])\n",
        "            if decoder_input.item() == EOS_token:\n",
        "                break\n",
        "\n",
        "    loss.backward()\n",
        "\n",
        "    encoder_optimizer.step()\n",
        "    decoder_optimizer.step()\n",
        "\n",
        "    return loss.item() / target_length"
      ],
      "execution_count": 58,
      "outputs": []
    },
    {
      "cell_type": "markdown",
      "metadata": {
        "id": "pfmlhEzDkf-X"
      },
      "source": [
        "This is a helper function to print time elapsed and estimated time\n",
        "remaining given the current time and progress %.\n",
        "\n",
        "\n"
      ]
    },
    {
      "cell_type": "code",
      "metadata": {
        "id": "WNbWUTxfkf-Y"
      },
      "source": [
        "import time\n",
        "import math\n",
        "\n",
        "\n",
        "def asMinutes(s):\n",
        "    m = math.floor(s / 60)\n",
        "    s -= m * 60\n",
        "    return '%dm %ds' % (m, s)\n",
        "\n",
        "\n",
        "def timeSince(since, percent):\n",
        "    now = time.time()\n",
        "    s = now - since\n",
        "    es = s / (percent)\n",
        "    rs = es - s\n",
        "    return '%s (- %s)' % (asMinutes(s), asMinutes(rs))"
      ],
      "execution_count": 59,
      "outputs": []
    },
    {
      "cell_type": "markdown",
      "metadata": {
        "id": "wc8pY8ZCkf-a"
      },
      "source": [
        "The whole training process looks like this:\n",
        "\n",
        "-  Start a timer\n",
        "-  Initialize optimizers and criterion\n",
        "-  Create set of training pairs\n",
        "-  Start empty losses array for plotting\n",
        "\n",
        "Then we call ``train`` many times and occasionally print the progress (%\n",
        "of examples, time so far, estimated time) and average loss.\n",
        "\n",
        "\n"
      ]
    },
    {
      "cell_type": "code",
      "metadata": {
        "id": "skZhUHw1kf-a"
      },
      "source": [
        "def trainIters(encoder, decoder, n_iters, print_every=1000, plot_every=100, learning_rate=0.01):\n",
        "    start = time.time()\n",
        "    plot_losses = []\n",
        "    print_loss_total = 0  # Reset every print_every\n",
        "    plot_loss_total = 0  # Reset every plot_every\n",
        "\n",
        "    encoder_optimizer = optim.SGD(encoder.parameters(), lr=learning_rate)\n",
        "    decoder_optimizer = optim.SGD(decoder.parameters(), lr=learning_rate)\n",
        "    training_pairs = [tensorsFromPair(random.choice(pairs))\n",
        "                      for i in range(n_iters)]\n",
        "    criterion = nn.NLLLoss()\n",
        "\n",
        "    for iter in range(1, n_iters + 1):\n",
        "        training_pair = training_pairs[iter - 1]\n",
        "        input_tensor = training_pair[0]\n",
        "        target_tensor = training_pair[1]\n",
        "\n",
        "        loss = train(input_tensor, target_tensor, encoder,\n",
        "                     decoder, encoder_optimizer, decoder_optimizer, criterion)\n",
        "        print_loss_total += loss\n",
        "        plot_loss_total += loss\n",
        "\n",
        "        if iter % print_every == 0:\n",
        "            print_loss_avg = print_loss_total / print_every\n",
        "            print_loss_total = 0\n",
        "            print('%s (%d %d%%) %.4f' % (timeSince(start, iter / n_iters),\n",
        "                                         iter, iter / n_iters * 100, print_loss_avg))\n",
        "\n",
        "        if iter % plot_every == 0:\n",
        "            plot_loss_avg = plot_loss_total / plot_every\n",
        "            plot_losses.append(plot_loss_avg)\n",
        "            plot_loss_total = 0\n",
        "\n",
        "    showPlot(plot_losses)"
      ],
      "execution_count": 60,
      "outputs": []
    },
    {
      "cell_type": "markdown",
      "metadata": {
        "id": "RgHOJ5Ugkf-j"
      },
      "source": [
        "Evaluation\n",
        "=========\n",
        "\n",
        "\n"
      ]
    },
    {
      "cell_type": "code",
      "metadata": {
        "id": "XvYgjVG_kf-j"
      },
      "source": [
        "def evaluate(encoder, decoder, sentence, max_length=MAX_LENGTH):\n",
        "    with torch.no_grad():\n",
        "        input_tensor = tensorFromSentence(input_lang, sentence)\n",
        "        input_length = input_tensor.size()[0]\n",
        "        encoder_hidden = encoder.initHidden()\n",
        "\n",
        "        encoder_outputs = torch.zeros(max_length, encoder.hidden_size, device=device)\n",
        "\n",
        "        for ei in range(input_length):\n",
        "            encoder_output, encoder_hidden = encoder(input_tensor[ei],\n",
        "                                                     encoder_hidden)\n",
        "            encoder_outputs[ei] += encoder_output[0, 0]\n",
        "\n",
        "        decoder_input = torch.tensor([[SOS_token]], device=device)  # SOS\n",
        "\n",
        "        decoder_hidden = encoder_hidden\n",
        "\n",
        "        decoded_words = []\n",
        "        decoder_attentions = torch.zeros(max_length, max_length)\n",
        "\n",
        "        for di in range(max_length):\n",
        "            decoder_output, decoder_hidden, decoder_attention = decoder(\n",
        "                decoder_input, decoder_hidden, encoder_outputs)\n",
        "            decoder_attentions[di] = decoder_attention.data\n",
        "            topv, topi = decoder_output.data.topk(1)\n",
        "            if topi.item() == EOS_token:\n",
        "                decoded_words.append('<EOS>')\n",
        "                break\n",
        "            else:\n",
        "                decoded_words.append(output_lang.index2word[topi.item()])\n",
        "\n",
        "            decoder_input = topi.squeeze().detach()\n",
        "\n",
        "        return decoded_words, decoder_attentions[:di + 1]"
      ],
      "execution_count": 62,
      "outputs": []
    },
    {
      "cell_type": "code",
      "metadata": {
        "colab": {
          "base_uri": "https://localhost:8080/"
        },
        "id": "4uAvHpB95eRU",
        "outputId": "0945121b-a3e2-4750-f823-33d088e86e0e"
      },
      "source": [
        "pairs[0]"
      ],
      "execution_count": 63,
      "outputs": [
        {
          "output_type": "execute_result",
          "data": {
            "text/plain": [
              "['How many heads of the departments are older than 56  ?',\n",
              " 'SELECT count(*) FROM head WHERE age  >  56']"
            ]
          },
          "metadata": {
            "tags": []
          },
          "execution_count": 63
        }
      ]
    },
    {
      "cell_type": "markdown",
      "metadata": {
        "id": "K-Xly1n3kf-l"
      },
      "source": [
        "We can evaluate random sentences from the training set and print out the\n",
        "input, target, and output to make some subjective quality judgements:\n",
        "\n",
        "\n"
      ]
    },
    {
      "cell_type": "code",
      "metadata": {
        "id": "58m1z4kJkf-m"
      },
      "source": [
        "def evaluateRandomly(encoder, decoder, n=10):\n",
        "    for i in range(n):\n",
        "        pair = random.choice(pairs)\n",
        "        print('>', pair[0])\n",
        "        print('=', pair[1])\n",
        "        output_words, attentions = evaluate(encoder, decoder, pair[0])\n",
        "        output_sentence = ' '.join(output_words)\n",
        "        print('<', output_sentence)\n",
        "        print('')"
      ],
      "execution_count": 64,
      "outputs": []
    },
    {
      "cell_type": "markdown",
      "metadata": {
        "id": "mrSEC280kf-o"
      },
      "source": [
        "Training and Evaluating\n",
        "=======================\n",
        "\n",
        "\n"
      ]
    },
    {
      "cell_type": "code",
      "metadata": {
        "id": "vzgG3EeogEu8"
      },
      "source": [
        "hidden_size = 256\n",
        "\n",
        "encoder1 = EncoderRNN(input_lang.n_words, hidden_size).to(device)\n",
        "attn_decoder1 = AttnDecoderRNN(hidden_size, output_lang.n_words, dropout_p=0.1).to(device)"
      ],
      "execution_count": 66,
      "outputs": []
    },
    {
      "cell_type": "markdown",
      "metadata": {
        "id": "XoB9Yva7yPXY"
      },
      "source": [
        "Load pretrained model"
      ]
    },
    {
      "cell_type": "code",
      "metadata": {
        "id": "op0iw6y6wzYD"
      },
      "source": [
        "encoder1.load_state_dict(torch.load('/content/encoder_kaggle.pt')) \n",
        "attn_decoder1.load_state_dict(torch.load('/content/decoder_kaggle.pt'))"
      ],
      "execution_count": null,
      "outputs": []
    },
    {
      "cell_type": "code",
      "metadata": {
        "id": "uBS0Q3gokf-p"
      },
      "source": [
        "trainIters(encoder1, attn_decoder1, 20000, print_every=100)"
      ],
      "execution_count": 86,
      "outputs": []
    },
    {
      "cell_type": "code",
      "metadata": {
        "id": "a_wUdnU1kf-s"
      },
      "source": [
        "evaluateRandomly(encoder1, attn_decoder1)"
      ],
      "execution_count": null,
      "outputs": []
    },
    {
      "cell_type": "code",
      "metadata": {
        "colab": {
          "base_uri": "https://localhost:8080/",
          "height": 35
        },
        "id": "-6H69JInAdMJ",
        "outputId": "d662569c-83dd-4ec3-8f19-7e0eccfe4252"
      },
      "source": [
        "ans = ''\n",
        "for w in evaluate(encoder1, attn_decoder1, 'How many planes departure from Los Angeles ?')[0]:\n",
        "    ans += (w) + ' '\n",
        "ans"
      ],
      "execution_count": 68,
      "outputs": [
        {
          "output_type": "execute_result",
          "data": {
            "application/vnd.google.colaboratory.intrinsic+json": {
              "type": "string"
            },
            "text/plain": [
              "'SELECT count(*) FROM WHERE WHERE origin  =  \"Los <EOS> '"
            ]
          },
          "metadata": {
            "tags": []
          },
          "execution_count": 68
        }
      ]
    },
    {
      "cell_type": "code",
      "metadata": {
        "colab": {
          "base_uri": "https://localhost:8080/"
        },
        "id": "3BjtWbQkEa_c",
        "outputId": "71237968-3a40-4846-f97e-3f1d74a7a9a8"
      },
      "source": [
        "for i in range (7000, 7015):\n",
        "    print(pairs[i])"
      ],
      "execution_count": 84,
      "outputs": [
        {
          "output_type": "stream",
          "text": [
            "['how many airports are there in each country ?', 'SELECT count(*) ,  country FROM airport GROUP BY country']\n",
            "['which countries have more than 2 airports ?', 'SELECT country FROM airport GROUP BY country HAVING count(*)  >  2']\n",
            "['which pilot is in charge of the most number of flights ?', 'SELECT pilot FROM flight GROUP BY pilot ORDER BY count(*) DESC LIMIT 1']\n",
            "['Find the name of the airport in the city of Goroka .', \"SELECT name FROM airports WHERE city  =  'Goroka'\"]\n",
            "['What are the names of the airports in the city of Goroka ?', \"SELECT name FROM airports WHERE city  =  'Goroka'\"]\n",
            "['Find the name, city, country, and altitude (or elevation) of the airports in the city of New York .', \"SELECT name ,  city ,  country ,  elevation FROM airports WHERE city  =  'New York'\"]\n",
            "['What is the name, city, country, and elevation for every airport in the city of New York ?', \"SELECT name ,  city ,  country ,  elevation FROM airports WHERE city  =  'New York'\"]\n",
            "['How many airlines are there ?', 'SELECT count(*) FROM airlines']\n",
            "['What is the total number of airlines ?', 'SELECT count(*) FROM airlines']\n",
            "['How many airlines does Russia has ?', \"SELECT count(*) FROM airlines WHERE country  =  'Russia'\"]\n",
            "['What is the number of airlines based in Russia ?', \"SELECT count(*) FROM airlines WHERE country  =  'Russia'\"]\n",
            "['What is the maximum elevation of all airports in the country of Iceland ?', \"SELECT max(elevation) FROM airports WHERE country  =  'Iceland'\"]\n",
            "['What is the highest elevation of an airport in the country of Iceland ?', \"SELECT max(elevation) FROM airports WHERE country  =  'Iceland'\"]\n",
            "['Find the name of the airports located in Cuba or Argentina .', \"SELECT name FROM airports WHERE country  =  'Cuba' OR country  =  'Argentina'\"]\n",
            "['What are the names of all airports in Cuba or Argentina ?', \"SELECT name FROM airports WHERE country  =  'Cuba' OR country  =  'Argentina'\"]\n"
          ],
          "name": "stdout"
        }
      ]
    },
    {
      "cell_type": "code",
      "metadata": {
        "colab": {
          "base_uri": "https://localhost:8080/"
        },
        "id": "w9LfgHkvCbWf",
        "outputId": "3df4dbc4-5866-41c4-8939-3b28625a7a7f"
      },
      "source": [
        "# encoder1.load_state_dict(torch.load('/content/encoder_kaggle.pt')) # можно и другую директорию, но вот это прямо внутри вашего гугл диска\n",
        "# attn_decoder1.load_state_dict(torch.load('/content/decoder_kaggle.pt'))"
      ],
      "execution_count": 67,
      "outputs": [
        {
          "output_type": "execute_result",
          "data": {
            "text/plain": [
              "<All keys matched successfully>"
            ]
          },
          "metadata": {
            "tags": []
          },
          "execution_count": 67
        }
      ]
    },
    {
      "cell_type": "code",
      "metadata": {
        "id": "m4p0meFhGN2C",
        "colab": {
          "base_uri": "https://localhost:8080/"
        },
        "outputId": "3c7f6d02-f606-411d-c487-4c71865f6570"
      },
      "source": [
        "!pip install flask-ngrok"
      ],
      "execution_count": 69,
      "outputs": [
        {
          "output_type": "stream",
          "text": [
            "Collecting flask-ngrok\n",
            "  Downloading https://files.pythonhosted.org/packages/af/6c/f54cb686ad1129e27d125d182f90f52b32f284e6c8df58c1bae54fa1adbc/flask_ngrok-0.0.25-py3-none-any.whl\n",
            "Requirement already satisfied: Flask>=0.8 in /usr/local/lib/python3.7/dist-packages (from flask-ngrok) (1.1.2)\n",
            "Requirement already satisfied: requests in /usr/local/lib/python3.7/dist-packages (from flask-ngrok) (2.23.0)\n",
            "Requirement already satisfied: Jinja2>=2.10.1 in /usr/local/lib/python3.7/dist-packages (from Flask>=0.8->flask-ngrok) (2.11.3)\n",
            "Requirement already satisfied: itsdangerous>=0.24 in /usr/local/lib/python3.7/dist-packages (from Flask>=0.8->flask-ngrok) (1.1.0)\n",
            "Requirement already satisfied: Werkzeug>=0.15 in /usr/local/lib/python3.7/dist-packages (from Flask>=0.8->flask-ngrok) (1.0.1)\n",
            "Requirement already satisfied: click>=5.1 in /usr/local/lib/python3.7/dist-packages (from Flask>=0.8->flask-ngrok) (7.1.2)\n",
            "Requirement already satisfied: idna<3,>=2.5 in /usr/local/lib/python3.7/dist-packages (from requests->flask-ngrok) (2.10)\n",
            "Requirement already satisfied: certifi>=2017.4.17 in /usr/local/lib/python3.7/dist-packages (from requests->flask-ngrok) (2020.12.5)\n",
            "Requirement already satisfied: urllib3!=1.25.0,!=1.25.1,<1.26,>=1.21.1 in /usr/local/lib/python3.7/dist-packages (from requests->flask-ngrok) (1.24.3)\n",
            "Requirement already satisfied: chardet<4,>=3.0.2 in /usr/local/lib/python3.7/dist-packages (from requests->flask-ngrok) (3.0.4)\n",
            "Requirement already satisfied: MarkupSafe>=0.23 in /usr/local/lib/python3.7/dist-packages (from Jinja2>=2.10.1->Flask>=0.8->flask-ngrok) (1.1.1)\n",
            "Installing collected packages: flask-ngrok\n",
            "Successfully installed flask-ngrok-0.0.25\n"
          ],
          "name": "stdout"
        }
      ]
    },
    {
      "cell_type": "code",
      "metadata": {
        "id": "QGExkzmFGN5T",
        "colab": {
          "base_uri": "https://localhost:8080/"
        },
        "outputId": "9e8e979a-87ec-46f5-fb97-304d0ec3b5c9"
      },
      "source": [
        "from flask_ngrok import run_with_ngrok\n",
        "from flask import Flask\n",
        "from flask import request, json, abort, jsonify\n",
        "app = Flask(__name__)\n",
        "run_with_ngrok(app)   #starts ngrok when the app is run\n",
        "@app.route(\"/\")\n",
        "def home():\n",
        "    ans = ''\n",
        "    for w in evaluate(encoder1, attn_decoder1, 'How many planes departure from Los Angeles ?')[0]:\n",
        "        ans += (w) + ' '\n",
        "    return ans \n",
        "@app.route('/', methods=['POST'])\n",
        "def parse_request():\n",
        "    input_json = request.get_json(force=True) \n",
        "    print ('data from client:', input_json)\n",
        "    text = input_json['text']\n",
        "    ans = ''\n",
        "    for word in evaluate(encoder1, attn_decoder1, text)[0]:\n",
        "        ans += word + ' '\n",
        "\n",
        "    print(ans)\n",
        "    result = {\"sql\" : ans}\n",
        "    return jsonify(result)\n",
        "  \n",
        "app.run()"
      ],
      "execution_count": 88,
      "outputs": [
        {
          "output_type": "stream",
          "text": [
            " * Serving Flask app \"__main__\" (lazy loading)\n",
            " * Environment: production\n",
            "\u001b[31m   WARNING: This is a development server. Do not use it in a production deployment.\u001b[0m\n",
            "\u001b[2m   Use a production WSGI server instead.\u001b[0m\n",
            " * Debug mode: off\n"
          ],
          "name": "stdout"
        },
        {
          "output_type": "stream",
          "text": [
            " * Running on http://127.0.0.1:5000/ (Press CTRL+C to quit)\n"
          ],
          "name": "stderr"
        },
        {
          "output_type": "stream",
          "text": [
            " * Running on http://953a066ec0cd.ngrok.io\n",
            " * Traffic stats available on http://127.0.0.1:4040\n"
          ],
          "name": "stdout"
        },
        {
          "output_type": "stream",
          "text": [
            "127.0.0.1 - - [25/Apr/2021 11:29:27] \"\u001b[37mPOST / HTTP/1.1\u001b[0m\" 200 -\n"
          ],
          "name": "stderr"
        },
        {
          "output_type": "stream",
          "text": [
            "data from client: {'text': 'Which pilot is in charge of the most number of flights ?'}\n",
            "SELECT pilot FROM pilot GROUP BY pilot ORDER BY count(*) DESC LIMIT 1 <EOS> \n"
          ],
          "name": "stdout"
        },
        {
          "output_type": "stream",
          "text": [
            "127.0.0.1 - - [25/Apr/2021 11:30:08] \"\u001b[37mPOST / HTTP/1.1\u001b[0m\" 200 -\n"
          ],
          "name": "stderr"
        },
        {
          "output_type": "stream",
          "text": [
            "data from client: {'text': 'What is the highest elevation of an airport in the country of Iceland ?'}\n",
            "SELECT max(elevation) FROM airports WHERE country  = 'Iceland' 'Iceland' <EOS> \n"
          ],
          "name": "stdout"
        },
        {
          "output_type": "stream",
          "text": [
            "127.0.0.1 - - [25/Apr/2021 11:32:39] \"\u001b[37mPOST / HTTP/1.1\u001b[0m\" 200 -\n"
          ],
          "name": "stderr"
        },
        {
          "output_type": "stream",
          "text": [
            "data from client: {'text': 'Which pilot is in charge of the most number of flights ?'}\n",
            "SELECT pilot FROM pilot GROUP BY pilot ORDER BY count(*) DESC LIMIT 1 <EOS> \n"
          ],
          "name": "stdout"
        },
        {
          "output_type": "stream",
          "text": [
            "127.0.0.1 - - [25/Apr/2021 11:35:19] \"\u001b[37mPOST / HTTP/1.1\u001b[0m\" 200 -\n"
          ],
          "name": "stderr"
        },
        {
          "output_type": "stream",
          "text": [
            "data from client: {'text': 'Find the name of the airports located in Cuba or Argentina .'}\n",
            "SELECT name FROM airports WHERE country  =  'Cuba' OR country  =  'Argentina' <EOS> \n"
          ],
          "name": "stdout"
        },
        {
          "output_type": "stream",
          "text": [
            "127.0.0.1 - - [25/Apr/2021 11:35:29] \"\u001b[37mPOST / HTTP/1.1\u001b[0m\" 200 -\n"
          ],
          "name": "stderr"
        },
        {
          "output_type": "stream",
          "text": [
            "data from client: {'text': 'What is the highest elevation of an airport in the country of Iceland '}\n",
            "SELECT count(*) FROM airports WHERE country elevation <EOS> \n"
          ],
          "name": "stdout"
        },
        {
          "output_type": "stream",
          "text": [
            "127.0.0.1 - - [25/Apr/2021 11:38:09] \"\u001b[37mPOST / HTTP/1.1\u001b[0m\" 200 -\n"
          ],
          "name": "stderr"
        },
        {
          "output_type": "stream",
          "text": [
            "data from client: {'text': 'What is the highest elevation of an airport in the country of Iceland ?'}\n",
            "SELECT max(elevation) FROM airports WHERE country = 'Iceland' <EOS> \n"
          ],
          "name": "stdout"
        },
        {
          "output_type": "stream",
          "text": [
            "127.0.0.1 - - [25/Apr/2021 11:39:01] \"\u001b[37mPOST / HTTP/1.1\u001b[0m\" 200 -\n"
          ],
          "name": "stderr"
        },
        {
          "output_type": "stream",
          "text": [
            "data from client: {'text': 'How many airlines are there ?'}\n",
            "SELECT count(*) FROM airlines <EOS> \n"
          ],
          "name": "stdout"
        },
        {
          "output_type": "stream",
          "text": [
            "127.0.0.1 - - [25/Apr/2021 11:40:10] \"\u001b[37mPOST / HTTP/1.1\u001b[0m\" 200 -\n"
          ],
          "name": "stderr"
        },
        {
          "output_type": "stream",
          "text": [
            "data from client: {'text': 'Which pilot is in charge of the most number of flights ?'}\n",
            "SELECT pilot FROM pilot GROUP BY ORDER BY count(*) DESC LIMIT 1 <EOS> \n"
          ],
          "name": "stdout"
        },
        {
          "output_type": "stream",
          "text": [
            "127.0.0.1 - - [25/Apr/2021 11:40:48] \"\u001b[37mPOST / HTTP/1.1\u001b[0m\" 200 -\n"
          ],
          "name": "stderr"
        },
        {
          "output_type": "stream",
          "text": [
            "data from client: {'text': 'Find the name of the airports located in Cuba or Argentina .'}\n",
            "SELECT name FROM airports WHERE country  =  'Cuba' OR country  =  'Argentina' <EOS> \n"
          ],
          "name": "stdout"
        },
        {
          "output_type": "stream",
          "text": [
            "127.0.0.1 - - [25/Apr/2021 11:41:05] \"\u001b[37mPOST / HTTP/1.1\u001b[0m\" 200 -\n"
          ],
          "name": "stderr"
        },
        {
          "output_type": "stream",
          "text": [
            "data from client: {'text': 'How many airlines are there ?'}\n",
            "SELECT count(*) FROM airlines <EOS> \n"
          ],
          "name": "stdout"
        }
      ]
    },
    {
      "cell_type": "code",
      "metadata": {
        "id": "t8RLqOigyge7"
      },
      "source": [
        ""
      ],
      "execution_count": null,
      "outputs": []
    }
  ]
}